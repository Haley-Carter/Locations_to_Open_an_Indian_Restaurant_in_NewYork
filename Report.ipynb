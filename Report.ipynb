{
 "cells": [
  {
   "cell_type": "markdown",
   "metadata": {},
   "source": [
    "# Choosing Best Locations to Open an Indian Restaurant in New York <a name=\"top\"></a>\n",
    "\n",
    "***Tarun Kamboj***\n",
    "\n",
    "---"
   ]
  },
  {
   "cell_type": "markdown",
   "metadata": {},
   "source": [
    "## Table of contents\n",
    "* [Introduction: Business Problem](#introduction)\n",
    "* [Data](#data)\n",
    "* [Exploratory Analysis](#analysis)\n",
    "* [Results and Discussion](#results)\n",
    "* [Conclusion](#conclusion)"
   ]
  },
  {
   "cell_type": "markdown",
   "metadata": {},
   "source": [
    "<a name=\"introduction\"></a>\n",
    "\n",
    "## Introduction: Business Problem "
   ]
  },
  {
   "cell_type": "markdown",
   "metadata": {},
   "source": [
    "Starting a restaurant business is no less than a herculean task. In a market where everybody wants to open a restaurant there are few things which restaurateurs have to keep in mind before starting up the business which includes cuisine, ambience, quality, services and location. Choosing a happening place could help restaurateurs keep an upper hand in the market. A happening place would grant you with happening consumers. Not everyone belongs to everywhere. Same, not every place is for restaurant. It is really difficult than some people think it might. A place could take you to the heights or could even turn into dud. Like, how would you reach to the consumers if it’s not in the right place? No consumers mean No business. It is as straight as that.\n",
    "\n",
    "In this work, we will try to find an optimal location for a restaurant. Specifically, this report will be targeted to stakeholders interested in opening an **Indian restaurant** in **New York**.\n",
    "\n",
    "Since there are lots of restaurants in New York we will try to detect **locations that are not already crowded with restaurants**. We are also particularly interested in **areas with no Indian restaurants**. We would also prefer locations **as close to city center as possible**, assuming that first two conditions are met.\n",
    "\n",
    "We will use our data science powers to generate a few most promissing neighborhoods based on this criteria. Advantages of each area will then be clearly expressed so that best possible final location can be chosen by stakeholders."
   ]
  },
  {
   "cell_type": "markdown",
   "metadata": {},
   "source": [
    "[Go to Top](#top) <a name=\"data\"></a>\n",
    "\n",
    "## Data "
   ]
  },
  {
   "cell_type": "markdown",
   "metadata": {},
   "source": [
    "To choose the best location for our purpose we will need the data of all neighborhoods in New York. New York has a total of 5 boroughs and 306 neighborhoods. In order to segement the neighborhoods and explore them, we will essentially need a dataset that contains the 5 boroughs and the neighborhoods that exist in each borough as well as the the latitude and logitude coordinates of each neighborhood.\n",
    "\n",
    "Luckily, the dataset for neighbourhoods exists for free on the web at https://geo.nyu.edu/catalog/nyu_2451_34572\n",
    "\n",
    "After we get this data, we will explore the popular venues in each neighbourhood using foursquare API and then choose the ones having high demands of restaurant. \n",
    "Based on definition of our problem, factors that will influence our decission are:\n",
    "* number of existing restaurants in the neighborhood (any type of restaurant)\n",
    "* number of and distance to Indian restaurants in the neighborhood, if any\n",
    "* distance of neighborhood from city center"
   ]
  },
  {
   "cell_type": "markdown",
   "metadata": {},
   "source": [
    "<img src=\"Images/1.png\" align=\"left\" width=\"350px\"> \n",
    "<img src=\"Images/2.png\" align=\"right\" width=\"600px\"> "
   ]
  },
  {
   "cell_type": "markdown",
   "metadata": {},
   "source": [
    "<p align="center">Data of Neighbourhoods (on left) ---- Data of Restaurants (on right)</p>"
   ]
  },
  {
   "cell_type": "markdown",
   "metadata": {},
   "source": [
    "[Go to Top](#top) <a name=\"analysis\"></a> \n",
    "\n",
    "## Exploratory Analysis"
   ]
  },
  {
   "cell_type": "markdown",
   "metadata": {},
   "source": [
    "In this project I've directed the efforts on detecting areas of New York that have low restaurant density, particularly those with low number of Indian restaurants.\n",
    "\n",
    "In first step i have collected the required **data: location and type (category) of every restaurant in New York**. I have also **identified Indian restaurants** (according to Foursquare categorization).\n",
    "<img src=\"Images/4.png\" align=\"center\" width=\"600px\"> <center>Visualising Restaurants in NewYork</center>\n",
    "\n",
    "After surfing the internet a little, i found that `Midtown Manhattan` is the busiest neighborhood in New York beacause it have various tourist destinations and business hubs, so i focused on `Midtown Manhattan`.\n",
    "<img src=\"Images/5.png\" align=\"center\" width=\"600px\"> <center>Visualising Restaurants in Midtown Manhattan</center>\n",
    "\n",
    "Second step in the analysis was calculation and exploration of '**restaurant density**' across different areas of Midtown - i used `Heatmaps` to identify a few promising areas close to busy city centers with low number of restaurants in general (*and* no Indian restaurants in vicinity) and focus the attention on those areas.\n",
    "\n",
    "<img src=\"Images/6.png\" align=\"left\" width=\"485px\" style=\"padding-top:15px;\"><img src=\"Images/7.png\" align=\"right\" width=\"485px\">"
   ]
  },
  {
   "cell_type": "markdown",
   "metadata": {},
   "source": [
    "<p align="center">Overall Restaurant Density(on left) ----- Indian Restaurant Density(on right)</p>"
   ]
  },
  {
   "cell_type": "markdown",
   "metadata": {},
   "source": [
    "[Go to Top](#top)  <a name=\"results\"></a>\n",
    "\n",
    "## Results and Discussion"
   ]
  },
  {
   "cell_type": "markdown",
   "metadata": {},
   "source": [
    "Our analysis shows that although there is a great number of restaurants in New York (~2500 in our initial area of interest), there are pockets of low restaurant density too. Highest concentration of restaurants was detected in downtown neighbourhoods of Manhattan, so we focused our attention to Midtown Manhattan which is also the busiest area when it comes tourists and business travelers. \n",
    "\n",
    "After directing our attention to this more narrow area of interest, we first created a dense grid of restaurants, and focused on those areas which were having low density of restaurants and literally no Indian restaurants.\n",
    "\n",
    "Result of all this was 2 zones containing largest number of potential new restaurant locations based on number of and distance to existing venues - both restaurants in general and Indian restaurants particularly. This, of course, does not imply that those zones are actually optimal locations for a new restaurant! Purpose of this analysis was to only provide info on areas close to busy centers of the city, but not crowded with existing restaurants (particularly Indian) - it is entirely possible that there is a very good reason for small number of restaurants in any of those areas, reasons which would make them unsuitable for a new restaurant regardless of lack of competition in the area. Recommended zones should therefore be considered only as a starting point for more detailed analysis which could eventually result in location which has not only no nearby competition but also other factors taken into account and all other relevant conditions met."
   ]
  },
  {
   "cell_type": "markdown",
   "metadata": {},
   "source": [
    "<img src=\"Images/8.png\" align=\"center\" width=\"600px\">"
   ]
  },
  {
   "cell_type": "markdown",
   "metadata": {},
   "source": [
    "[Go to Top](#top) <a name=\"conclusion\"></a>\n",
    "\n",
    "## Conclusion"
   ]
  },
  {
   "cell_type": "markdown",
   "metadata": {},
   "source": [
    "Purpose of this project was to identify New York areas popular with tourists and business travellers but have a low number of or no restaurants (particularly Indian restaurants) in order to aid stakeholders in narrowing down the search for optimal location for a new Indian restaurant. By calculating restaurant density distribution from Foursquare data we have first identified general neighborhoods that justify further analysis, and then generated extensive collection of locations which satisfy some basic requirements regarding existing nearby restaurants. After which major zones of interest (containing greatest number of potential locations) and addresses of those zone centers were created to be used as starting points for final exploration by stakeholders.\n",
    "\n",
    "Final decission on optimal restaurant location will be made by stakeholders based on specific characteristics of neighborhoods and locations in every recommended zone, taking into consideration additional factors like attractiveness of each location (proximity to park or water), levels of noise / proximity to major roads, real estate availability, prices, social and economic dynamics of every neighborhood etc."
   ]
  },
  {
   "cell_type": "markdown",
   "metadata": {},
   "source": [
    "## Thank You for Reading!"
   ]
  }
 ],
 "metadata": {
  "kernelspec": {
   "display_name": "Python 3",
   "language": "python",
   "name": "python3"
  },
  "language_info": {
   "codemirror_mode": {
    "name": "ipython",
    "version": 3
   },
   "file_extension": ".py",
   "mimetype": "text/x-python",
   "name": "python",
   "nbconvert_exporter": "python",
   "pygments_lexer": "ipython3",
   "version": "3.7.6"
  }
 },
 "nbformat": 4,
 "nbformat_minor": 4
}
